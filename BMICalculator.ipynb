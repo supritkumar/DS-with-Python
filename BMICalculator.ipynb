{
 "cells": [
  {
   "cell_type": "markdown",
   "metadata": {},
   "source": [
    "# BMI calculator"
   ]
  },
  {
   "cell_type": "code",
   "execution_count": 3,
   "metadata": {},
   "outputs": [
    {
     "name": "stdout",
     "output_type": "stream",
     "text": [
      "Enter your weight (in kgs): 73\n",
      "What is your preferred unit of height? Type \"F\" for feet and \"M\" for meters: F\n",
      "You will enter your height given as feet and inches. First enter feet: 5\n",
      "Now enter inches: 9\n",
      "So Your BMI is:  23.76606459610737\n",
      "Normal\n"
     ]
    }
   ],
   "source": [
    "def make_it_int(a):\n",
    "    a=int(a)\n",
    "    return a\n",
    "def make_float(a):\n",
    "    a=float(a)\n",
    "    return a\n",
    "weight=make_float(input(\"Enter your weight (in kgs): \"))\n",
    "h=input('What is your preferred unit of height? Type \"F\" for feet and \"M\" for meters: ')\n",
    "if h==\"F\":\n",
    "    height_Feet=make_it_int(input(\"You will enter your height given as feet and inches. First enter feet: \"))\n",
    "    height_inch=make_it_int(input(\"Now enter inches: \"))\n",
    "    height=height_Feet+(height_inch/12)\n",
    "    height_metre=make_float(height/3.28084)\n",
    "elif h==\"M\":\n",
    "    height_metre=make_float(input(\"What is your height in meters: \"))\n",
    "BMI=weight/height_metre **2\n",
    "print(\"So Your BMI is: \", BMI)\n",
    "if BMI<18.5:\n",
    "    print(\"Underweight\")\n",
    "elif BMI>=18.5 and BMI<25:\n",
    "    print(\"Normal\")\n",
    "elif BMI>=25 and BMI <30:\n",
    "    print(\"Overweight\")\n",
    "elif BMI>30:\n",
    "    print(\"Very-OverWeight\")\n",
    "else:\n",
    "    print(\"Very Serious Issue\")"
   ]
  },
  {
   "cell_type": "code",
   "execution_count": null,
   "metadata": {},
   "outputs": [],
   "source": []
  }
 ],
 "metadata": {
  "kernelspec": {
   "display_name": "Python 3",
   "language": "python",
   "name": "python3"
  },
  "language_info": {
   "codemirror_mode": {
    "name": "ipython",
    "version": 3
   },
   "file_extension": ".py",
   "mimetype": "text/x-python",
   "name": "python",
   "nbconvert_exporter": "python",
   "pygments_lexer": "ipython3",
   "version": "3.7.6"
  }
 },
 "nbformat": 4,
 "nbformat_minor": 4
}
